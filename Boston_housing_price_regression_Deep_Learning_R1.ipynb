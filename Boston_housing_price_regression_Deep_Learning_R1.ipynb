{
  "nbformat": 4,
  "nbformat_minor": 0,
  "metadata": {
    "colab": {
      "provenance": []
    },
    "kernelspec": {
      "name": "python3",
      "display_name": "Python 3"
    },
    "language_info": {
      "name": "python"
    }
  },
  "cells": [
    {
      "cell_type": "code",
      "execution_count": 39,
      "metadata": {
        "id": "ZkRGCmgNLatD"
      },
      "outputs": [],
      "source": [
        "#  importing the tensorflow and keras directories\n",
        "import tensorflow as tf\n",
        "from tensorflow import keras\n",
        "from tensorflow.keras import layers\n",
        "from tensorflow.keras.layers import Dense\n",
        "import pandas as pd\n",
        "import numpy as np\n",
        "\n",
        "from tensorflow.keras import models\n",
        "from tensorflow.keras.models import Sequential\n",
        "\n",
        "#  importing the utilities from keras\n",
        "from keras.utils import to_categorical\n",
        "from keras.utils.vis_utils import model_to_dot\n",
        "from keras.datasets import boston_housing"
      ]
    },
    {
      "cell_type": "code",
      "source": [
        "# splitting the boston dataset\n",
        "\n",
        "(x_train,y_train,) , (x_test,y_test) = boston_housing.load_data()\n"
      ],
      "metadata": {
        "id": "ZEsGXOhERCtJ"
      },
      "execution_count": 40,
      "outputs": []
    },
    {
      "cell_type": "code",
      "source": [
        "# Data Preprocessing\n",
        "\n",
        "# checking the shapes of training and test data\n",
        "\n",
        "print (x_train.shape)\n",
        "print (x_test.shape)\n",
        "print(y_train.shape)\n",
        "print(y_test.shape)\n"
      ],
      "metadata": {
        "colab": {
          "base_uri": "https://localhost:8080/"
        },
        "id": "RkQvW_K0W9EU",
        "outputId": "a2fbf772-9ad8-4c3d-ae94-d9e99414ff27"
      },
      "execution_count": 41,
      "outputs": [
        {
          "output_type": "stream",
          "name": "stdout",
          "text": [
            "(404, 13)\n",
            "(102, 13)\n",
            "(404,)\n",
            "(102,)\n"
          ]
        }
      ]
    },
    {
      "cell_type": "code",
      "source": [
        "# checking the 1st instance of x_train \n",
        "\n",
        "x_train[0]"
      ],
      "metadata": {
        "colab": {
          "base_uri": "https://localhost:8080/"
        },
        "id": "EjRC9CT0LAIN",
        "outputId": "c1fb09c3-23f1-4c17-b9d1-6142b33d4e2f"
      },
      "execution_count": 42,
      "outputs": [
        {
          "output_type": "execute_result",
          "data": {
            "text/plain": [
              "array([  1.23247,   0.     ,   8.14   ,   0.     ,   0.538  ,   6.142  ,\n",
              "        91.7    ,   3.9769 ,   4.     , 307.     ,  21.     , 396.9    ,\n",
              "        18.72   ])"
            ]
          },
          "metadata": {},
          "execution_count": 42
        }
      ]
    },
    {
      "cell_type": "code",
      "source": [
        "# cheking the 1st instance of y_train\n",
        "\n",
        "y_train[0]"
      ],
      "metadata": {
        "colab": {
          "base_uri": "https://localhost:8080/"
        },
        "id": "n_MW05lrNFIY",
        "outputId": "c20b03ee-d9cb-4483-a6ca-b591997f9b67"
      },
      "execution_count": 43,
      "outputs": [
        {
          "output_type": "execute_result",
          "data": {
            "text/plain": [
              "15.2"
            ]
          },
          "metadata": {},
          "execution_count": 43
        }
      ]
    },
    {
      "cell_type": "markdown",
      "source": [
        "** from the above result we find that the dataset has 506 instances and 13 independent variables"
      ],
      "metadata": {
        "id": "1205NgyeXifA"
      }
    },
    {
      "cell_type": "code",
      "source": [
        "# normalising the training data\n",
        "\n",
        "x_train = tf.keras.layers.UnitNormalization()(x_train)\n",
        "x_test = tf.keras.layers.UnitNormalization()(x_test)"
      ],
      "metadata": {
        "id": "FO4dO-2RfGEG"
      },
      "execution_count": 44,
      "outputs": []
    },
    {
      "cell_type": "code",
      "source": [
        "# rechecking if this standardisation has happened\n",
        "print(x_train[10])"
      ],
      "metadata": {
        "colab": {
          "base_uri": "https://localhost:8080/"
        },
        "id": "2_U667kBMTc0",
        "outputId": "d091e6cf-5d13-49f4-f1ef-0906518981fa"
      },
      "execution_count": 45,
      "outputs": [
        {
          "output_type": "stream",
          "name": "stdout",
          "text": [
            "tf.Tensor(\n",
            "[0.01242039 0.         0.02342809 0.         0.000897   0.00828914\n",
            " 0.12943694 0.00212147 0.03106487 0.86205006 0.02614626 0.4868253\n",
            " 0.02628864], shape=(13,), dtype=float32)\n"
          ]
        }
      ]
    },
    {
      "cell_type": "code",
      "source": [
        "print(x_test[0])"
      ],
      "metadata": {
        "colab": {
          "base_uri": "https://localhost:8080/"
        },
        "id": "nvjVC8enOhgw",
        "outputId": "ac4b4b59-c35d-433b-a097-c238e87b23ec"
      },
      "execution_count": 46,
      "outputs": [
        {
          "output_type": "stream",
          "name": "stdout",
          "text": [
            "tf.Tensor(\n",
            "[0.02675675 0.         0.02677953 0.         0.0010046  0.00951931\n",
            " 0.14795321 0.0027145  0.03550877 0.9853684  0.02988655 0.04031725\n",
            " 0.04298041], shape=(13,), dtype=float32)\n"
          ]
        }
      ]
    },
    {
      "cell_type": "code",
      "source": [
        "#build Neural with 2 hidden layers\n",
        "\n",
        "def HousePricePredictionModel():\n",
        "\n",
        "  model = models.Sequential()\n",
        "  model.add(Dense(128,activation = 'relu',input_shape = (x_train[0].shape)))\n",
        "  model.add(Dense(64,activation = 'relu'))\n",
        "  model.add(Dense(32,activation = 'relu'))\n",
        "  model.add(Dense(1))\n",
        "  model.compile( optimizer='rmsprop',loss='mse', metrics='mae')\n",
        "  return model"
      ],
      "metadata": {
        "id": "-J2Vkm5pNzvS"
      },
      "execution_count": 47,
      "outputs": []
    },
    {
      "cell_type": "code",
      "source": [
        "# defining parameters\n",
        "BATCH_SIZE = 1         # this is a hyperparameter; this is the number of instances that will be processed in one go\n",
        "EPOCH = 200            # the number of times the operations happen "
      ],
      "metadata": {
        "id": "fcIpHbZieu7f"
      },
      "execution_count": 54,
      "outputs": []
    },
    {
      "cell_type": "code",
      "source": [
        "# fitting and training the model\n",
        "\n",
        "model = HousePricePredictionModel()\n",
        "history = model.fit(x_train,y_train,batch_size = BATCH_SIZE, epochs = EPOCH,verbose = 1, validation_data=(x_test,y_test))"
      ],
      "metadata": {
        "colab": {
          "base_uri": "https://localhost:8080/"
        },
        "id": "ANLw2mzkbCou",
        "outputId": "82ceabe5-f79f-429c-ac7a-0e93db09d82a"
      },
      "execution_count": 55,
      "outputs": [
        {
          "output_type": "stream",
          "name": "stdout",
          "text": [
            "Epoch 1/200\n",
            "404/404 [==============================] - 2s 3ms/step - loss: 130.6162 - mae: 8.1047 - val_loss: 67.7538 - val_mae: 6.0764\n",
            "Epoch 2/200\n",
            "404/404 [==============================] - 1s 3ms/step - loss: 68.1697 - mae: 5.8331 - val_loss: 58.8492 - val_mae: 5.6041\n",
            "Epoch 3/200\n",
            "404/404 [==============================] - 1s 3ms/step - loss: 61.0970 - mae: 5.4274 - val_loss: 70.6167 - val_mae: 5.8929\n",
            "Epoch 4/200\n",
            "404/404 [==============================] - 1s 4ms/step - loss: 60.4048 - mae: 5.3272 - val_loss: 59.9177 - val_mae: 5.4804\n",
            "Epoch 5/200\n",
            "404/404 [==============================] - 1s 3ms/step - loss: 58.1264 - mae: 5.3148 - val_loss: 53.3383 - val_mae: 5.4820\n",
            "Epoch 6/200\n",
            "404/404 [==============================] - 1s 2ms/step - loss: 56.9885 - mae: 5.1908 - val_loss: 54.5097 - val_mae: 5.2486\n",
            "Epoch 7/200\n",
            "404/404 [==============================] - 2s 5ms/step - loss: 55.3521 - mae: 4.8566 - val_loss: 55.7475 - val_mae: 5.2448\n",
            "Epoch 8/200\n",
            "404/404 [==============================] - 1s 2ms/step - loss: 54.0867 - mae: 5.0232 - val_loss: 55.1156 - val_mae: 5.1936\n",
            "Epoch 9/200\n",
            "404/404 [==============================] - 1s 2ms/step - loss: 51.9182 - mae: 4.8413 - val_loss: 57.6354 - val_mae: 5.3007\n",
            "Epoch 10/200\n",
            "404/404 [==============================] - 1s 2ms/step - loss: 49.6776 - mae: 4.6666 - val_loss: 50.5303 - val_mae: 5.4272\n",
            "Epoch 11/200\n",
            "404/404 [==============================] - 1s 2ms/step - loss: 48.9899 - mae: 4.7647 - val_loss: 44.0077 - val_mae: 4.7052\n",
            "Epoch 12/200\n",
            "404/404 [==============================] - 1s 2ms/step - loss: 47.2864 - mae: 4.6527 - val_loss: 44.1098 - val_mae: 4.6030\n",
            "Epoch 13/200\n",
            "404/404 [==============================] - 1s 3ms/step - loss: 43.7184 - mae: 4.5889 - val_loss: 42.7208 - val_mae: 4.8920\n",
            "Epoch 14/200\n",
            "404/404 [==============================] - 1s 2ms/step - loss: 42.6863 - mae: 4.4765 - val_loss: 39.3808 - val_mae: 4.5035\n",
            "Epoch 15/200\n",
            "404/404 [==============================] - 2s 4ms/step - loss: 40.8359 - mae: 4.3499 - val_loss: 37.5531 - val_mae: 4.2465\n",
            "Epoch 16/200\n",
            "404/404 [==============================] - 1s 4ms/step - loss: 38.2348 - mae: 4.2844 - val_loss: 34.8577 - val_mae: 4.1464\n",
            "Epoch 17/200\n",
            "404/404 [==============================] - 1s 2ms/step - loss: 38.6828 - mae: 4.3447 - val_loss: 33.6825 - val_mae: 4.0946\n",
            "Epoch 18/200\n",
            "404/404 [==============================] - 1s 2ms/step - loss: 36.5383 - mae: 4.1982 - val_loss: 32.3722 - val_mae: 3.9494\n",
            "Epoch 19/200\n",
            "404/404 [==============================] - 1s 2ms/step - loss: 36.8666 - mae: 4.2862 - val_loss: 32.5825 - val_mae: 3.9680\n",
            "Epoch 20/200\n",
            "404/404 [==============================] - 1s 2ms/step - loss: 34.1295 - mae: 4.1621 - val_loss: 40.8236 - val_mae: 5.3076\n",
            "Epoch 21/200\n",
            "404/404 [==============================] - 1s 3ms/step - loss: 33.9344 - mae: 4.0401 - val_loss: 31.5263 - val_mae: 3.8885\n",
            "Epoch 22/200\n",
            "404/404 [==============================] - 1s 3ms/step - loss: 33.9891 - mae: 4.0722 - val_loss: 41.6593 - val_mae: 4.4457\n",
            "Epoch 23/200\n",
            "404/404 [==============================] - 1s 2ms/step - loss: 32.6266 - mae: 4.0809 - val_loss: 37.9394 - val_mae: 4.2663\n",
            "Epoch 24/200\n",
            "404/404 [==============================] - 1s 2ms/step - loss: 31.1618 - mae: 3.9545 - val_loss: 30.4865 - val_mae: 3.8983\n",
            "Epoch 25/200\n",
            "404/404 [==============================] - 1s 3ms/step - loss: 31.3088 - mae: 3.8951 - val_loss: 31.3717 - val_mae: 4.3545\n",
            "Epoch 26/200\n",
            "404/404 [==============================] - 1s 3ms/step - loss: 31.1549 - mae: 3.8981 - val_loss: 27.2773 - val_mae: 3.7645\n",
            "Epoch 27/200\n",
            "404/404 [==============================] - 2s 4ms/step - loss: 29.2709 - mae: 3.8064 - val_loss: 29.1043 - val_mae: 3.7958\n",
            "Epoch 28/200\n",
            "404/404 [==============================] - 1s 2ms/step - loss: 28.0886 - mae: 3.7662 - val_loss: 33.4743 - val_mae: 4.0373\n",
            "Epoch 29/200\n",
            "404/404 [==============================] - 1s 2ms/step - loss: 28.3562 - mae: 3.7913 - val_loss: 25.9174 - val_mae: 3.7073\n",
            "Epoch 30/200\n",
            "404/404 [==============================] - 1s 2ms/step - loss: 27.5517 - mae: 3.7814 - val_loss: 28.8692 - val_mae: 3.7607\n",
            "Epoch 31/200\n",
            "404/404 [==============================] - 1s 2ms/step - loss: 25.8102 - mae: 3.6280 - val_loss: 26.6452 - val_mae: 3.7151\n",
            "Epoch 32/200\n",
            "404/404 [==============================] - 1s 2ms/step - loss: 26.1406 - mae: 3.5180 - val_loss: 44.1527 - val_mae: 5.7601\n",
            "Epoch 33/200\n",
            "404/404 [==============================] - 1s 2ms/step - loss: 26.2639 - mae: 3.6777 - val_loss: 27.3168 - val_mae: 3.6438\n",
            "Epoch 34/200\n",
            "404/404 [==============================] - 1s 2ms/step - loss: 24.6124 - mae: 3.4593 - val_loss: 48.9537 - val_mae: 5.1399\n",
            "Epoch 35/200\n",
            "404/404 [==============================] - 1s 2ms/step - loss: 24.7440 - mae: 3.5221 - val_loss: 34.3803 - val_mae: 4.8962\n",
            "Epoch 36/200\n",
            "404/404 [==============================] - 1s 2ms/step - loss: 22.7873 - mae: 3.5002 - val_loss: 31.0442 - val_mae: 3.8698\n",
            "Epoch 37/200\n",
            "404/404 [==============================] - 1s 2ms/step - loss: 23.0194 - mae: 3.3844 - val_loss: 25.6919 - val_mae: 3.6086\n",
            "Epoch 38/200\n",
            "404/404 [==============================] - 1s 2ms/step - loss: 22.9896 - mae: 3.3276 - val_loss: 25.3593 - val_mae: 3.7192\n",
            "Epoch 39/200\n",
            "404/404 [==============================] - 2s 4ms/step - loss: 22.2832 - mae: 3.4238 - val_loss: 28.1311 - val_mae: 4.0606\n",
            "Epoch 40/200\n",
            "404/404 [==============================] - 1s 3ms/step - loss: 21.6250 - mae: 3.3532 - val_loss: 32.0892 - val_mae: 4.0119\n",
            "Epoch 41/200\n",
            "404/404 [==============================] - 1s 2ms/step - loss: 22.1994 - mae: 3.3672 - val_loss: 25.7558 - val_mae: 3.6001\n",
            "Epoch 42/200\n",
            "404/404 [==============================] - 1s 2ms/step - loss: 21.8996 - mae: 3.3327 - val_loss: 26.3860 - val_mae: 3.6307\n",
            "Epoch 43/200\n",
            "404/404 [==============================] - 1s 3ms/step - loss: 20.6414 - mae: 3.3687 - val_loss: 27.3231 - val_mae: 3.8625\n",
            "Epoch 44/200\n",
            "404/404 [==============================] - 1s 2ms/step - loss: 19.6028 - mae: 3.2633 - val_loss: 30.4556 - val_mae: 3.9131\n",
            "Epoch 45/200\n",
            "404/404 [==============================] - 1s 2ms/step - loss: 20.2417 - mae: 3.2993 - val_loss: 31.1714 - val_mae: 3.9253\n",
            "Epoch 46/200\n",
            "404/404 [==============================] - 1s 3ms/step - loss: 19.5717 - mae: 3.2474 - val_loss: 28.0629 - val_mae: 3.7271\n",
            "Epoch 47/200\n",
            "404/404 [==============================] - 1s 2ms/step - loss: 19.6720 - mae: 3.1717 - val_loss: 28.9208 - val_mae: 3.7699\n",
            "Epoch 48/200\n",
            "404/404 [==============================] - 1s 2ms/step - loss: 20.3890 - mae: 3.2654 - val_loss: 39.1191 - val_mae: 4.3469\n",
            "Epoch 49/200\n",
            "404/404 [==============================] - 1s 2ms/step - loss: 19.9910 - mae: 3.1196 - val_loss: 32.0376 - val_mae: 4.0180\n",
            "Epoch 50/200\n",
            "404/404 [==============================] - 1s 3ms/step - loss: 19.4689 - mae: 3.2334 - val_loss: 29.3215 - val_mae: 3.8126\n",
            "Epoch 51/200\n",
            "404/404 [==============================] - 1s 4ms/step - loss: 17.2038 - mae: 3.1011 - val_loss: 29.6336 - val_mae: 3.7720\n",
            "Epoch 52/200\n",
            "404/404 [==============================] - 1s 3ms/step - loss: 19.0880 - mae: 3.1233 - val_loss: 29.2842 - val_mae: 3.7995\n",
            "Epoch 53/200\n",
            "404/404 [==============================] - 1s 2ms/step - loss: 18.4741 - mae: 3.1533 - val_loss: 31.1761 - val_mae: 4.4023\n",
            "Epoch 54/200\n",
            "404/404 [==============================] - 1s 2ms/step - loss: 19.9474 - mae: 3.0669 - val_loss: 28.1962 - val_mae: 3.7054\n",
            "Epoch 55/200\n",
            "404/404 [==============================] - 1s 2ms/step - loss: 17.0210 - mae: 3.0626 - val_loss: 33.1191 - val_mae: 3.9911\n",
            "Epoch 56/200\n",
            "404/404 [==============================] - 1s 2ms/step - loss: 18.1596 - mae: 2.9997 - val_loss: 30.1131 - val_mae: 3.7747\n",
            "Epoch 57/200\n",
            "404/404 [==============================] - 1s 2ms/step - loss: 19.0441 - mae: 3.0453 - val_loss: 30.0832 - val_mae: 3.7341\n",
            "Epoch 58/200\n",
            "404/404 [==============================] - 1s 2ms/step - loss: 17.6976 - mae: 3.0588 - val_loss: 35.3151 - val_mae: 4.1013\n",
            "Epoch 59/200\n",
            "404/404 [==============================] - 1s 2ms/step - loss: 18.4081 - mae: 3.0628 - val_loss: 30.4782 - val_mae: 3.6889\n",
            "Epoch 60/200\n",
            "404/404 [==============================] - 1s 2ms/step - loss: 18.2228 - mae: 3.2033 - val_loss: 31.7592 - val_mae: 3.9251\n",
            "Epoch 61/200\n",
            "404/404 [==============================] - 1s 2ms/step - loss: 17.7823 - mae: 3.0089 - val_loss: 27.7297 - val_mae: 3.7490\n",
            "Epoch 62/200\n",
            "404/404 [==============================] - 1s 2ms/step - loss: 18.5865 - mae: 3.1672 - val_loss: 34.7129 - val_mae: 4.1725\n",
            "Epoch 63/200\n",
            "404/404 [==============================] - 2s 4ms/step - loss: 18.6323 - mae: 3.0092 - val_loss: 31.7398 - val_mae: 3.9437\n",
            "Epoch 64/200\n",
            "404/404 [==============================] - 2s 4ms/step - loss: 18.1738 - mae: 3.0297 - val_loss: 30.1394 - val_mae: 3.6986\n",
            "Epoch 65/200\n",
            "404/404 [==============================] - 1s 2ms/step - loss: 18.1453 - mae: 3.0413 - val_loss: 28.3983 - val_mae: 3.6508\n",
            "Epoch 66/200\n",
            "404/404 [==============================] - 1s 2ms/step - loss: 17.7874 - mae: 2.9590 - val_loss: 31.8916 - val_mae: 3.9880\n",
            "Epoch 67/200\n",
            "404/404 [==============================] - 1s 2ms/step - loss: 17.7432 - mae: 2.9939 - val_loss: 31.6749 - val_mae: 3.8166\n",
            "Epoch 68/200\n",
            "404/404 [==============================] - 1s 2ms/step - loss: 18.1927 - mae: 3.0570 - val_loss: 27.8781 - val_mae: 3.5961\n",
            "Epoch 69/200\n",
            "404/404 [==============================] - 1s 2ms/step - loss: 16.8832 - mae: 2.9966 - val_loss: 30.2856 - val_mae: 3.8027\n",
            "Epoch 70/200\n",
            "404/404 [==============================] - 1s 2ms/step - loss: 18.1238 - mae: 3.0455 - val_loss: 37.5911 - val_mae: 4.4922\n",
            "Epoch 71/200\n",
            "404/404 [==============================] - 1s 3ms/step - loss: 18.1513 - mae: 2.9767 - val_loss: 29.1457 - val_mae: 3.6594\n",
            "Epoch 72/200\n",
            "404/404 [==============================] - 1s 2ms/step - loss: 17.5758 - mae: 2.9413 - val_loss: 35.9686 - val_mae: 4.0572\n",
            "Epoch 73/200\n",
            "404/404 [==============================] - 1s 3ms/step - loss: 18.5823 - mae: 3.0403 - val_loss: 32.6352 - val_mae: 3.8858\n",
            "Epoch 74/200\n",
            "404/404 [==============================] - 1s 3ms/step - loss: 17.1513 - mae: 2.9896 - val_loss: 28.7970 - val_mae: 3.6441\n",
            "Epoch 75/200\n",
            "404/404 [==============================] - 2s 4ms/step - loss: 17.8648 - mae: 3.0596 - val_loss: 30.0264 - val_mae: 3.6303\n",
            "Epoch 76/200\n",
            "404/404 [==============================] - 1s 3ms/step - loss: 17.0010 - mae: 2.9254 - val_loss: 29.5684 - val_mae: 3.6688\n",
            "Epoch 77/200\n",
            "404/404 [==============================] - 1s 2ms/step - loss: 18.0447 - mae: 3.0736 - val_loss: 30.3451 - val_mae: 3.7678\n",
            "Epoch 78/200\n",
            "404/404 [==============================] - 1s 2ms/step - loss: 16.1569 - mae: 2.9087 - val_loss: 28.5006 - val_mae: 3.6176\n",
            "Epoch 79/200\n",
            "404/404 [==============================] - 1s 3ms/step - loss: 16.3522 - mae: 2.8985 - val_loss: 31.8659 - val_mae: 3.8228\n",
            "Epoch 80/200\n",
            "404/404 [==============================] - 1s 3ms/step - loss: 17.6081 - mae: 3.0446 - val_loss: 29.2690 - val_mae: 3.9142\n",
            "Epoch 81/200\n",
            "404/404 [==============================] - 1s 2ms/step - loss: 17.7053 - mae: 2.9956 - val_loss: 28.4809 - val_mae: 3.5481\n",
            "Epoch 82/200\n",
            "404/404 [==============================] - 1s 3ms/step - loss: 16.7738 - mae: 2.8908 - val_loss: 32.1495 - val_mae: 3.9265\n",
            "Epoch 83/200\n",
            "404/404 [==============================] - 1s 2ms/step - loss: 16.0886 - mae: 2.8732 - val_loss: 28.9322 - val_mae: 3.9184\n",
            "Epoch 84/200\n",
            "404/404 [==============================] - 1s 3ms/step - loss: 16.5380 - mae: 2.9312 - val_loss: 27.7383 - val_mae: 3.5318\n",
            "Epoch 85/200\n",
            "404/404 [==============================] - 1s 2ms/step - loss: 16.9606 - mae: 2.9299 - val_loss: 42.7134 - val_mae: 4.4428\n",
            "Epoch 86/200\n",
            "404/404 [==============================] - 1s 3ms/step - loss: 17.2726 - mae: 2.9105 - val_loss: 29.6501 - val_mae: 3.6296\n",
            "Epoch 87/200\n",
            "404/404 [==============================] - 2s 4ms/step - loss: 16.8917 - mae: 2.9659 - val_loss: 32.8619 - val_mae: 3.8193\n",
            "Epoch 88/200\n",
            "404/404 [==============================] - 1s 3ms/step - loss: 16.6408 - mae: 2.9439 - val_loss: 37.6935 - val_mae: 4.3696\n",
            "Epoch 89/200\n",
            "404/404 [==============================] - 1s 2ms/step - loss: 16.0729 - mae: 2.9066 - val_loss: 39.8232 - val_mae: 4.5669\n",
            "Epoch 90/200\n",
            "404/404 [==============================] - 1s 3ms/step - loss: 16.0874 - mae: 2.8512 - val_loss: 40.4132 - val_mae: 4.6104\n",
            "Epoch 91/200\n",
            "404/404 [==============================] - 1s 2ms/step - loss: 16.8363 - mae: 2.9531 - val_loss: 43.4178 - val_mae: 4.6991\n",
            "Epoch 92/200\n",
            "404/404 [==============================] - 1s 2ms/step - loss: 17.3731 - mae: 2.8626 - val_loss: 28.4809 - val_mae: 3.5778\n",
            "Epoch 93/200\n",
            "404/404 [==============================] - 1s 2ms/step - loss: 15.5333 - mae: 2.8455 - val_loss: 29.2172 - val_mae: 3.6056\n",
            "Epoch 94/200\n",
            "404/404 [==============================] - 1s 2ms/step - loss: 17.4676 - mae: 3.0291 - val_loss: 30.4043 - val_mae: 3.6436\n",
            "Epoch 95/200\n",
            "404/404 [==============================] - 1s 3ms/step - loss: 16.4368 - mae: 2.8680 - val_loss: 29.9741 - val_mae: 3.6255\n",
            "Epoch 96/200\n",
            "404/404 [==============================] - 1s 3ms/step - loss: 14.7471 - mae: 2.6992 - val_loss: 29.6292 - val_mae: 3.7483\n",
            "Epoch 97/200\n",
            "404/404 [==============================] - 1s 2ms/step - loss: 15.7939 - mae: 2.8919 - val_loss: 29.5588 - val_mae: 3.6179\n",
            "Epoch 98/200\n",
            "404/404 [==============================] - 2s 4ms/step - loss: 16.6172 - mae: 2.8919 - val_loss: 30.2858 - val_mae: 3.6128\n",
            "Epoch 99/200\n",
            "404/404 [==============================] - 1s 4ms/step - loss: 17.2461 - mae: 2.8438 - val_loss: 29.7637 - val_mae: 3.6502\n",
            "Epoch 100/200\n",
            "404/404 [==============================] - 1s 2ms/step - loss: 15.8529 - mae: 2.8180 - val_loss: 28.8453 - val_mae: 3.5774\n",
            "Epoch 101/200\n",
            "404/404 [==============================] - 1s 2ms/step - loss: 16.4348 - mae: 2.8143 - val_loss: 31.9123 - val_mae: 3.6937\n",
            "Epoch 102/200\n",
            "404/404 [==============================] - 1s 3ms/step - loss: 16.5218 - mae: 2.8384 - val_loss: 26.7769 - val_mae: 3.4669\n",
            "Epoch 103/200\n",
            "404/404 [==============================] - 2s 5ms/step - loss: 15.8017 - mae: 2.8211 - val_loss: 28.2936 - val_mae: 3.7718\n",
            "Epoch 104/200\n",
            "404/404 [==============================] - 3s 6ms/step - loss: 15.6880 - mae: 2.7872 - val_loss: 31.8751 - val_mae: 3.8395\n",
            "Epoch 105/200\n",
            "404/404 [==============================] - 2s 5ms/step - loss: 15.9637 - mae: 2.8482 - val_loss: 39.5447 - val_mae: 4.2911\n",
            "Epoch 106/200\n",
            "404/404 [==============================] - 3s 8ms/step - loss: 16.6068 - mae: 2.9084 - val_loss: 32.2158 - val_mae: 3.6855\n",
            "Epoch 107/200\n",
            "404/404 [==============================] - 2s 5ms/step - loss: 16.1333 - mae: 2.9074 - val_loss: 26.6844 - val_mae: 3.4744\n",
            "Epoch 108/200\n",
            "404/404 [==============================] - 2s 5ms/step - loss: 16.8112 - mae: 2.8759 - val_loss: 29.1364 - val_mae: 3.6554\n",
            "Epoch 109/200\n",
            "404/404 [==============================] - 2s 5ms/step - loss: 16.6611 - mae: 2.8351 - val_loss: 28.9608 - val_mae: 3.6379\n",
            "Epoch 110/200\n",
            "404/404 [==============================] - 2s 5ms/step - loss: 16.5770 - mae: 2.8239 - val_loss: 34.1048 - val_mae: 3.9775\n",
            "Epoch 111/200\n",
            "404/404 [==============================] - 1s 3ms/step - loss: 15.1518 - mae: 2.7899 - val_loss: 29.3461 - val_mae: 3.6224\n",
            "Epoch 112/200\n",
            "404/404 [==============================] - 1s 2ms/step - loss: 14.6371 - mae: 2.7796 - val_loss: 29.2882 - val_mae: 3.6557\n",
            "Epoch 113/200\n",
            "404/404 [==============================] - 1s 3ms/step - loss: 16.7415 - mae: 2.8514 - val_loss: 30.8983 - val_mae: 3.7863\n",
            "Epoch 114/200\n",
            "404/404 [==============================] - 1s 3ms/step - loss: 16.2049 - mae: 2.8727 - val_loss: 31.0573 - val_mae: 4.0402\n",
            "Epoch 115/200\n",
            "404/404 [==============================] - 1s 4ms/step - loss: 16.3792 - mae: 2.7925 - val_loss: 27.5699 - val_mae: 3.5538\n",
            "Epoch 116/200\n",
            "404/404 [==============================] - 1s 3ms/step - loss: 16.1753 - mae: 2.8572 - val_loss: 30.5114 - val_mae: 3.7184\n",
            "Epoch 117/200\n",
            "404/404 [==============================] - 1s 3ms/step - loss: 15.4886 - mae: 2.7997 - val_loss: 29.7584 - val_mae: 3.7943\n",
            "Epoch 118/200\n",
            "404/404 [==============================] - 1s 3ms/step - loss: 15.7351 - mae: 2.8290 - val_loss: 27.0877 - val_mae: 3.5966\n",
            "Epoch 119/200\n",
            "404/404 [==============================] - 1s 3ms/step - loss: 17.0225 - mae: 2.8317 - val_loss: 28.0604 - val_mae: 3.8521\n",
            "Epoch 120/200\n",
            "404/404 [==============================] - 1s 3ms/step - loss: 15.6503 - mae: 2.7934 - val_loss: 27.0100 - val_mae: 3.6060\n",
            "Epoch 121/200\n",
            "404/404 [==============================] - 1s 3ms/step - loss: 15.5275 - mae: 2.7858 - val_loss: 32.4054 - val_mae: 3.7859\n",
            "Epoch 122/200\n",
            "404/404 [==============================] - 1s 2ms/step - loss: 15.5040 - mae: 2.8111 - val_loss: 30.5991 - val_mae: 3.6590\n",
            "Epoch 123/200\n",
            "404/404 [==============================] - 1s 3ms/step - loss: 15.5063 - mae: 2.7560 - val_loss: 35.9956 - val_mae: 4.5219\n",
            "Epoch 124/200\n",
            "404/404 [==============================] - 1s 3ms/step - loss: 16.5491 - mae: 2.8703 - val_loss: 28.1540 - val_mae: 3.5215\n",
            "Epoch 125/200\n",
            "404/404 [==============================] - 2s 4ms/step - loss: 15.3429 - mae: 2.7966 - val_loss: 27.8159 - val_mae: 3.7685\n",
            "Epoch 126/200\n",
            "404/404 [==============================] - 1s 3ms/step - loss: 16.1941 - mae: 2.8658 - val_loss: 37.0148 - val_mae: 4.3695\n",
            "Epoch 127/200\n",
            "404/404 [==============================] - 1s 3ms/step - loss: 16.2668 - mae: 2.8797 - val_loss: 25.6813 - val_mae: 3.4810\n",
            "Epoch 128/200\n",
            "404/404 [==============================] - 2s 4ms/step - loss: 14.1475 - mae: 2.7998 - val_loss: 41.5879 - val_mae: 4.6515\n",
            "Epoch 129/200\n",
            "404/404 [==============================] - 1s 3ms/step - loss: 15.1329 - mae: 2.7141 - val_loss: 31.1253 - val_mae: 3.6517\n",
            "Epoch 130/200\n",
            "404/404 [==============================] - 1s 3ms/step - loss: 16.4100 - mae: 2.8597 - val_loss: 29.4225 - val_mae: 3.6050\n",
            "Epoch 131/200\n",
            "404/404 [==============================] - 2s 4ms/step - loss: 15.8716 - mae: 2.7767 - val_loss: 31.3229 - val_mae: 3.7865\n",
            "Epoch 132/200\n",
            "404/404 [==============================] - 2s 4ms/step - loss: 15.7329 - mae: 2.7911 - val_loss: 30.9805 - val_mae: 3.7410\n",
            "Epoch 133/200\n",
            "404/404 [==============================] - 1s 3ms/step - loss: 15.5889 - mae: 2.8242 - val_loss: 27.1950 - val_mae: 3.5537\n",
            "Epoch 134/200\n",
            "404/404 [==============================] - 2s 4ms/step - loss: 15.8502 - mae: 2.7855 - val_loss: 28.1134 - val_mae: 3.5191\n",
            "Epoch 135/200\n",
            "404/404 [==============================] - 2s 4ms/step - loss: 15.6779 - mae: 2.8612 - val_loss: 27.1516 - val_mae: 3.4641\n",
            "Epoch 136/200\n",
            "404/404 [==============================] - 1s 3ms/step - loss: 16.3965 - mae: 2.8803 - val_loss: 30.6522 - val_mae: 3.7841\n",
            "Epoch 137/200\n",
            "404/404 [==============================] - 1s 3ms/step - loss: 15.4542 - mae: 2.7903 - val_loss: 26.7676 - val_mae: 3.6802\n",
            "Epoch 138/200\n",
            "404/404 [==============================] - 1s 3ms/step - loss: 14.3107 - mae: 2.6967 - val_loss: 27.9453 - val_mae: 3.5148\n",
            "Epoch 139/200\n",
            "404/404 [==============================] - 1s 3ms/step - loss: 15.4488 - mae: 2.7427 - val_loss: 28.1538 - val_mae: 3.6191\n",
            "Epoch 140/200\n",
            "404/404 [==============================] - 1s 3ms/step - loss: 15.8116 - mae: 2.8140 - val_loss: 34.3242 - val_mae: 4.0779\n",
            "Epoch 141/200\n",
            "404/404 [==============================] - 1s 3ms/step - loss: 14.9581 - mae: 2.7484 - val_loss: 31.9424 - val_mae: 3.7635\n",
            "Epoch 142/200\n",
            "404/404 [==============================] - 1s 3ms/step - loss: 15.3551 - mae: 2.7260 - val_loss: 28.1096 - val_mae: 3.4656\n",
            "Epoch 143/200\n",
            "404/404 [==============================] - 1s 3ms/step - loss: 15.4440 - mae: 2.8234 - val_loss: 34.7377 - val_mae: 4.0001\n",
            "Epoch 144/200\n",
            "404/404 [==============================] - 2s 5ms/step - loss: 15.7901 - mae: 2.7644 - val_loss: 27.9081 - val_mae: 3.4663\n",
            "Epoch 145/200\n",
            "404/404 [==============================] - 3s 6ms/step - loss: 15.1928 - mae: 2.7828 - val_loss: 27.6084 - val_mae: 3.5074\n",
            "Epoch 146/200\n",
            "404/404 [==============================] - 1s 3ms/step - loss: 15.4534 - mae: 2.7551 - val_loss: 41.5413 - val_mae: 4.6323\n",
            "Epoch 147/200\n",
            "404/404 [==============================] - 1s 3ms/step - loss: 16.0404 - mae: 2.7769 - val_loss: 27.6877 - val_mae: 3.5680\n",
            "Epoch 148/200\n",
            "404/404 [==============================] - 1s 3ms/step - loss: 15.5556 - mae: 2.8070 - val_loss: 27.0595 - val_mae: 3.4131\n",
            "Epoch 149/200\n",
            "404/404 [==============================] - 1s 3ms/step - loss: 16.2260 - mae: 2.7978 - val_loss: 29.7091 - val_mae: 3.6557\n",
            "Epoch 150/200\n",
            "404/404 [==============================] - 1s 4ms/step - loss: 14.8957 - mae: 2.7071 - val_loss: 31.4237 - val_mae: 3.7760\n",
            "Epoch 151/200\n",
            "404/404 [==============================] - 1s 3ms/step - loss: 15.7667 - mae: 2.7386 - val_loss: 27.4359 - val_mae: 3.4540\n",
            "Epoch 152/200\n",
            "404/404 [==============================] - 1s 3ms/step - loss: 15.7012 - mae: 2.7536 - val_loss: 26.2270 - val_mae: 3.6488\n",
            "Epoch 153/200\n",
            "404/404 [==============================] - 2s 5ms/step - loss: 14.0603 - mae: 2.6921 - val_loss: 35.7575 - val_mae: 4.0163\n",
            "Epoch 154/200\n",
            "404/404 [==============================] - 2s 4ms/step - loss: 14.2463 - mae: 2.7788 - val_loss: 25.8424 - val_mae: 3.4047\n",
            "Epoch 155/200\n",
            "404/404 [==============================] - 1s 3ms/step - loss: 15.4162 - mae: 2.7487 - val_loss: 28.9048 - val_mae: 3.6820\n",
            "Epoch 156/200\n",
            "404/404 [==============================] - 1s 4ms/step - loss: 14.7967 - mae: 2.6868 - val_loss: 27.2143 - val_mae: 3.4305\n",
            "Epoch 157/200\n",
            "404/404 [==============================] - 3s 6ms/step - loss: 15.4165 - mae: 2.7366 - val_loss: 33.0627 - val_mae: 3.8525\n",
            "Epoch 158/200\n",
            "404/404 [==============================] - 2s 4ms/step - loss: 14.9929 - mae: 2.7673 - val_loss: 40.1331 - val_mae: 4.6241\n",
            "Epoch 159/200\n",
            "404/404 [==============================] - 1s 3ms/step - loss: 15.2223 - mae: 2.7914 - val_loss: 28.3660 - val_mae: 3.5157\n",
            "Epoch 160/200\n",
            "404/404 [==============================] - 2s 4ms/step - loss: 15.2274 - mae: 2.7338 - val_loss: 28.8890 - val_mae: 3.6827\n",
            "Epoch 161/200\n",
            "404/404 [==============================] - 2s 5ms/step - loss: 15.1858 - mae: 2.7694 - val_loss: 29.1376 - val_mae: 3.5041\n",
            "Epoch 162/200\n",
            "404/404 [==============================] - 1s 3ms/step - loss: 14.9961 - mae: 2.7414 - val_loss: 33.1204 - val_mae: 3.8099\n",
            "Epoch 163/200\n",
            "404/404 [==============================] - 1s 3ms/step - loss: 14.7076 - mae: 2.7349 - val_loss: 24.9979 - val_mae: 3.4165\n",
            "Epoch 164/200\n",
            "404/404 [==============================] - 2s 4ms/step - loss: 15.3941 - mae: 2.7771 - val_loss: 23.3362 - val_mae: 3.3789\n",
            "Epoch 165/200\n",
            "404/404 [==============================] - 2s 4ms/step - loss: 14.9488 - mae: 2.8068 - val_loss: 23.5382 - val_mae: 3.3592\n",
            "Epoch 166/200\n",
            "404/404 [==============================] - 1s 3ms/step - loss: 16.1735 - mae: 2.8199 - val_loss: 27.8276 - val_mae: 3.5673\n",
            "Epoch 167/200\n",
            "404/404 [==============================] - 1s 3ms/step - loss: 14.4591 - mae: 2.6811 - val_loss: 31.9503 - val_mae: 3.8410\n",
            "Epoch 168/200\n",
            "404/404 [==============================] - 1s 3ms/step - loss: 13.7925 - mae: 2.7406 - val_loss: 25.0379 - val_mae: 3.3761\n",
            "Epoch 169/200\n",
            "404/404 [==============================] - 1s 3ms/step - loss: 15.3504 - mae: 2.7394 - val_loss: 26.5227 - val_mae: 3.4386\n",
            "Epoch 170/200\n",
            "404/404 [==============================] - 2s 5ms/step - loss: 15.1003 - mae: 2.7019 - val_loss: 38.3970 - val_mae: 4.3762\n",
            "Epoch 171/200\n",
            "404/404 [==============================] - 1s 3ms/step - loss: 14.3361 - mae: 2.6830 - val_loss: 25.7413 - val_mae: 3.5321\n",
            "Epoch 172/200\n",
            "404/404 [==============================] - 1s 3ms/step - loss: 14.0083 - mae: 2.7463 - val_loss: 47.7225 - val_mae: 4.5845\n",
            "Epoch 173/200\n",
            "404/404 [==============================] - 1s 3ms/step - loss: 14.5293 - mae: 2.6952 - val_loss: 32.7667 - val_mae: 3.7924\n",
            "Epoch 174/200\n",
            "404/404 [==============================] - 1s 3ms/step - loss: 14.1768 - mae: 2.6851 - val_loss: 27.5190 - val_mae: 3.5498\n",
            "Epoch 175/200\n",
            "404/404 [==============================] - 1s 3ms/step - loss: 15.0742 - mae: 2.6900 - val_loss: 30.8249 - val_mae: 3.7853\n",
            "Epoch 176/200\n",
            "404/404 [==============================] - 1s 3ms/step - loss: 14.2678 - mae: 2.7223 - val_loss: 28.3232 - val_mae: 3.6496\n",
            "Epoch 177/200\n",
            "404/404 [==============================] - 1s 3ms/step - loss: 14.1092 - mae: 2.7556 - val_loss: 25.5806 - val_mae: 3.7220\n",
            "Epoch 178/200\n",
            "404/404 [==============================] - 1s 3ms/step - loss: 14.0152 - mae: 2.6635 - val_loss: 41.7673 - val_mae: 4.2371\n",
            "Epoch 179/200\n",
            "404/404 [==============================] - 1s 3ms/step - loss: 13.3703 - mae: 2.6362 - val_loss: 30.1924 - val_mae: 3.8945\n",
            "Epoch 180/200\n",
            "404/404 [==============================] - 2s 4ms/step - loss: 15.5994 - mae: 2.7352 - val_loss: 26.3796 - val_mae: 3.4635\n",
            "Epoch 181/200\n",
            "404/404 [==============================] - 2s 4ms/step - loss: 15.2679 - mae: 2.6234 - val_loss: 25.7264 - val_mae: 3.5885\n",
            "Epoch 182/200\n",
            "404/404 [==============================] - 1s 3ms/step - loss: 14.2014 - mae: 2.6834 - val_loss: 39.9499 - val_mae: 4.1339\n",
            "Epoch 183/200\n",
            "404/404 [==============================] - 1s 3ms/step - loss: 14.8470 - mae: 2.7131 - val_loss: 27.5870 - val_mae: 3.5374\n",
            "Epoch 184/200\n",
            "404/404 [==============================] - 1s 4ms/step - loss: 15.3214 - mae: 2.6912 - val_loss: 28.0554 - val_mae: 3.7001\n",
            "Epoch 185/200\n",
            "404/404 [==============================] - 1s 3ms/step - loss: 14.4382 - mae: 2.7057 - val_loss: 23.1246 - val_mae: 3.3393\n",
            "Epoch 186/200\n",
            "404/404 [==============================] - 1s 2ms/step - loss: 14.9283 - mae: 2.6514 - val_loss: 27.7337 - val_mae: 3.4118\n",
            "Epoch 187/200\n",
            "404/404 [==============================] - 1s 3ms/step - loss: 15.1868 - mae: 2.6869 - val_loss: 23.6359 - val_mae: 3.2427\n",
            "Epoch 188/200\n",
            "404/404 [==============================] - 1s 3ms/step - loss: 14.8897 - mae: 2.6791 - val_loss: 27.0642 - val_mae: 3.5986\n",
            "Epoch 189/200\n",
            "404/404 [==============================] - 1s 3ms/step - loss: 15.3840 - mae: 2.7609 - val_loss: 26.0553 - val_mae: 3.3349\n",
            "Epoch 190/200\n",
            "404/404 [==============================] - 1s 3ms/step - loss: 13.8799 - mae: 2.6406 - val_loss: 27.3470 - val_mae: 3.4258\n",
            "Epoch 191/200\n",
            "404/404 [==============================] - 2s 4ms/step - loss: 13.9310 - mae: 2.6755 - val_loss: 55.9552 - val_mae: 4.9132\n",
            "Epoch 192/200\n",
            "404/404 [==============================] - 1s 3ms/step - loss: 14.2210 - mae: 2.7339 - val_loss: 28.7364 - val_mae: 3.8148\n",
            "Epoch 193/200\n",
            "404/404 [==============================] - 1s 3ms/step - loss: 13.6631 - mae: 2.6693 - val_loss: 27.4325 - val_mae: 3.3812\n",
            "Epoch 194/200\n",
            "404/404 [==============================] - 1s 3ms/step - loss: 14.9356 - mae: 2.6975 - val_loss: 28.9283 - val_mae: 3.6633\n",
            "Epoch 195/200\n",
            "404/404 [==============================] - 1s 3ms/step - loss: 13.8828 - mae: 2.6424 - val_loss: 32.8698 - val_mae: 3.7243\n",
            "Epoch 196/200\n",
            "404/404 [==============================] - 1s 3ms/step - loss: 13.9848 - mae: 2.5923 - val_loss: 24.9616 - val_mae: 3.4092\n",
            "Epoch 197/200\n",
            "404/404 [==============================] - 1s 2ms/step - loss: 14.2749 - mae: 2.6194 - val_loss: 31.0190 - val_mae: 3.6167\n",
            "Epoch 198/200\n",
            "404/404 [==============================] - 1s 3ms/step - loss: 14.7993 - mae: 2.7617 - val_loss: 27.9512 - val_mae: 3.6201\n",
            "Epoch 199/200\n",
            "404/404 [==============================] - 1s 3ms/step - loss: 13.7314 - mae: 2.6224 - val_loss: 26.3746 - val_mae: 3.5361\n",
            "Epoch 200/200\n",
            "404/404 [==============================] - 1s 3ms/step - loss: 14.1672 - mae: 2.6442 - val_loss: 37.0997 - val_mae: 3.9290\n"
          ]
        }
      ]
    },
    {
      "cell_type": "code",
      "source": [
        "model.summary()"
      ],
      "metadata": {
        "colab": {
          "base_uri": "https://localhost:8080/"
        },
        "id": "X2wBr_9ad-sX",
        "outputId": "e5a9bc92-bfa2-479f-91e6-8138a52f80d7"
      },
      "execution_count": 56,
      "outputs": [
        {
          "output_type": "stream",
          "name": "stdout",
          "text": [
            "Model: \"sequential_9\"\n",
            "_________________________________________________________________\n",
            " Layer (type)                Output Shape              Param #   \n",
            "=================================================================\n",
            " dense_35 (Dense)            (None, 128)               1792      \n",
            "                                                                 \n",
            " dense_36 (Dense)            (None, 64)                8256      \n",
            "                                                                 \n",
            " dense_37 (Dense)            (None, 32)                2080      \n",
            "                                                                 \n",
            " dense_38 (Dense)            (None, 1)                 33        \n",
            "                                                                 \n",
            "=================================================================\n",
            "Total params: 12,161\n",
            "Trainable params: 12,161\n",
            "Non-trainable params: 0\n",
            "_________________________________________________________________\n"
          ]
        }
      ]
    },
    {
      "cell_type": "code",
      "source": [
        "import matplotlib.pyplot as plt\n",
        "plt.figure(figsize=(15,5))\n",
        "plt.plot(history.history['loss'])\n",
        "plt.plot(history.history['val_loss'])\n",
        "plt.plot([EPOCH])\n",
        "plt.ylabel('loss function')\n",
        "plt.xlabel('EPOCH')\n",
        "plt.legend(['train_loss','val_loss'],loc = 'upper right')\n",
        "plt.show()\n"
      ],
      "metadata": {
        "colab": {
          "base_uri": "https://localhost:8080/",
          "height": 334
        },
        "id": "e_HiwWJ-hygv",
        "outputId": "93c877f0-f939-43a9-cd8d-46d2d756e9b3"
      },
      "execution_count": 58,
      "outputs": [
        {
          "output_type": "display_data",
          "data": {
            "text/plain": [
              "<Figure size 1080x360 with 1 Axes>"
            ],
            "image/png": "[encoded data removed]"
          },
          "metadata": {
            "needs_background": "light"
          }
        }
      ]
    }
  ]
}