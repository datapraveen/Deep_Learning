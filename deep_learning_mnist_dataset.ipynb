{
  "nbformat": 4,
  "nbformat_minor": 0,
  "metadata": {
    "colab": {
      "provenance": []
    },
    "kernelspec": {
      "name": "python3",
      "display_name": "Python 3"
    },
    "language_info": {
      "name": "python"
    }
  },
  "cells": [
    {
      "cell_type": "code",
      "execution_count": 84,
      "metadata": {
        "id": "ZGkbwFAr3imO"
      },
      "outputs": [],
      "source": [
        "#  importing tensorflow and keras directories\n",
        "import tensorflow as tf\n",
        "from tensorflow import keras\n",
        "from keras import models\n",
        "from tensorflow.keras import layers\n",
        "from tensorflow.keras.layers import Dense\n",
        "\n",
        "#  importing utilities from keras\n",
        "from keras.utils import to_categorical\n",
        "from keras.datasets import mnist\n",
        "from keras.utils.vis_utils import model_to_dot"
      ]
    },
    {
      "cell_type": "code",
      "source": [
        "!pip install livelossplot"
      ],
      "metadata": {
        "colab": {
          "base_uri": "https://localhost:8080/"
        },
        "id": "tKJ9ifL94Xsv",
        "outputId": "8e572b79-32ad-4f7d-f822-4d5ec320780f"
      },
      "execution_count": 85,
      "outputs": [
        {
          "output_type": "stream",
          "name": "stdout",
          "text": [
            "Looking in indexes: https://pypi.org/simple, https://us-python.pkg.dev/colab-wheels/public/simple/\n",
            "Requirement already satisfied: livelossplot in /usr/local/lib/python3.8/dist-packages (0.5.5)\n",
            "Requirement already satisfied: matplotlib in /usr/local/lib/python3.8/dist-packages (from livelossplot) (3.2.2)\n",
            "Requirement already satisfied: bokeh in /usr/local/lib/python3.8/dist-packages (from livelossplot) (2.3.3)\n",
            "Requirement already satisfied: PyYAML>=3.10 in /usr/local/lib/python3.8/dist-packages (from bokeh->livelossplot) (6.0)\n",
            "Requirement already satisfied: pillow>=7.1.0 in /usr/local/lib/python3.8/dist-packages (from bokeh->livelossplot) (7.1.2)\n",
            "Requirement already satisfied: packaging>=16.8 in /usr/local/lib/python3.8/dist-packages (from bokeh->livelossplot) (23.0)\n",
            "Requirement already satisfied: typing-extensions>=3.7.4 in /usr/local/lib/python3.8/dist-packages (from bokeh->livelossplot) (4.5.0)\n",
            "Requirement already satisfied: tornado>=5.1 in /usr/local/lib/python3.8/dist-packages (from bokeh->livelossplot) (6.2)\n",
            "Requirement already satisfied: numpy>=1.11.3 in /usr/local/lib/python3.8/dist-packages (from bokeh->livelossplot) (1.21.6)\n",
            "Requirement already satisfied: Jinja2>=2.9 in /usr/local/lib/python3.8/dist-packages (from bokeh->livelossplot) (2.11.3)\n",
            "Requirement already satisfied: python-dateutil>=2.1 in /usr/local/lib/python3.8/dist-packages (from bokeh->livelossplot) (2.8.2)\n",
            "Requirement already satisfied: kiwisolver>=1.0.1 in /usr/local/lib/python3.8/dist-packages (from matplotlib->livelossplot) (1.4.4)\n",
            "Requirement already satisfied: cycler>=0.10 in /usr/local/lib/python3.8/dist-packages (from matplotlib->livelossplot) (0.11.0)\n",
            "Requirement already satisfied: pyparsing!=2.0.4,!=2.1.2,!=2.1.6,>=2.0.1 in /usr/local/lib/python3.8/dist-packages (from matplotlib->livelossplot) (3.0.9)\n",
            "Requirement already satisfied: MarkupSafe>=0.23 in /usr/local/lib/python3.8/dist-packages (from Jinja2>=2.9->bokeh->livelossplot) (2.0.1)\n",
            "Requirement already satisfied: six>=1.5 in /usr/local/lib/python3.8/dist-packages (from python-dateutil>=2.1->bokeh->livelossplot) (1.15.0)\n"
          ]
        }
      ]
    },
    {
      "cell_type": "code",
      "source": [
        "import livelossplot"
      ],
      "metadata": {
        "id": "cN9DKMWd54F9"
      },
      "execution_count": 86,
      "outputs": []
    },
    {
      "cell_type": "code",
      "source": [
        "#loading the mnist dataset\n",
        "\n",
        "(X_train, y_train) , (X_test,y_test) = mnist.load_data()"
      ],
      "metadata": {
        "id": "7eSxWQT18CFU"
      },
      "execution_count": 87,
      "outputs": []
    },
    {
      "cell_type": "code",
      "source": [
        "# data Preprocessing\n",
        "\n",
        "# checking the shape of test and train datas\n",
        "X_train.shape"
      ],
      "metadata": {
        "colab": {
          "base_uri": "https://localhost:8080/"
        },
        "id": "8zxENU738fLn",
        "outputId": "3c50315a-464f-429f-f7b6-0eeca3502a66"
      },
      "execution_count": 88,
      "outputs": [
        {
          "output_type": "execute_result",
          "data": {
            "text/plain": [
              "(60000, 28, 28)"
            ]
          },
          "metadata": {},
          "execution_count": 88
        }
      ]
    },
    {
      "cell_type": "code",
      "source": [
        "X_test.shape"
      ],
      "metadata": {
        "colab": {
          "base_uri": "https://localhost:8080/"
        },
        "id": "g3ioc-yw9KNR",
        "outputId": "5b4a3647-ffa0-4f5e-9e50-6d1077316259"
      },
      "execution_count": 89,
      "outputs": [
        {
          "output_type": "execute_result",
          "data": {
            "text/plain": [
              "(10000, 28, 28)"
            ]
          },
          "metadata": {},
          "execution_count": 89
        }
      ]
    },
    {
      "cell_type": "code",
      "source": [
        "y_test"
      ],
      "metadata": {
        "colab": {
          "base_uri": "https://localhost:8080/"
        },
        "id": "tan7bCML9W3O",
        "outputId": "2fd807f7-37a1-4ff2-c7ca-afb910f683af"
      },
      "execution_count": 90,
      "outputs": [
        {
          "output_type": "execute_result",
          "data": {
            "text/plain": [
              "array([7, 2, 1, ..., 4, 5, 6], dtype=uint8)"
            ]
          },
          "metadata": {},
          "execution_count": 90
        }
      ]
    },
    {
      "cell_type": "code",
      "source": [
        "# visualising the data\n",
        "\n",
        "import matplotlib.pyplot as plt\n",
        "plt.imshow(X_train[2])"
      ],
      "metadata": {
        "colab": {
          "base_uri": "https://localhost:8080/",
          "height": 282
        },
        "id": "Rmv52JEU9oOJ",
        "outputId": "e3b0fa9d-cd0c-411b-efbe-64b4c014b7a3"
      },
      "execution_count": 91,
      "outputs": [
        {
          "output_type": "execute_result",
          "data": {
            "text/plain": [
              "<matplotlib.image.AxesImage at 0x7fb659057070>"
            ]
          },
          "metadata": {},
          "execution_count": 91
        },
        {
          "output_type": "display_data",
          "data": {
            "text/plain": [
              "<Figure size 432x288 with 1 Axes>"
            ],
            "image/png": "[encoded data removed]"
          },
          "metadata": {
            "needs_background": "light"
          }
        }
      ]
    },
    {
      "cell_type": "code",
      "source": [
        "# checking the corresponding label\n",
        "print(y_train[2])"
      ],
      "metadata": {
        "colab": {
          "base_uri": "https://localhost:8080/"
        },
        "id": "5FoVtOfa-jqK",
        "outputId": "14992b7b-8a17-47f6-a532-e07c62d8c120"
      },
      "execution_count": 92,
      "outputs": [
        {
          "output_type": "stream",
          "name": "stdout",
          "text": [
            "4\n"
          ]
        }
      ]
    },
    {
      "cell_type": "code",
      "source": [
        "# defining parameters\n",
        "NUM_ROWS = 28          #  this we have seen earlier\n",
        "NUM_COLUMNS = 28       #  this we have seen earlier\n",
        "NUM_CLASSES = 10        # labels range from 0 to 10\n",
        "BATCH_SIZE = 128       # this is a hyperparameter; this is the number of instances that will be processed in one go\n",
        "EPOCH = 15             # the number of times the oterations happen \n"
      ],
      "metadata": {
        "id": "QQ0SUUZX_Cww"
      },
      "execution_count": 93,
      "outputs": []
    },
    {
      "cell_type": "code",
      "source": [
        "# converting the labels into categorical data\n",
        "\n",
        "y_train = to_categorical(y_train, NUM_CLASSES)\n",
        "y_test = to_categorical(y_test,NUM_CLASSES)"
      ],
      "metadata": {
        "id": "EdhHVYmkCOAK"
      },
      "execution_count": 94,
      "outputs": []
    },
    {
      "cell_type": "code",
      "source": [
        "# currently , the image is on a 2D array whereas the input is 1D. So we have to reshape the values to 1D.\n",
        "\n",
        "X_train = X_train.reshape(X_train.shape[0],NUM_ROWS*NUM_COLUMNS)\n"
      ],
      "metadata": {
        "id": "VBQBrJZ5KFqS"
      },
      "execution_count": 95,
      "outputs": []
    },
    {
      "cell_type": "code",
      "source": [
        "print(X_train.shape)"
      ],
      "metadata": {
        "colab": {
          "base_uri": "https://localhost:8080/"
        },
        "id": "kK0te8_5MfaQ",
        "outputId": "073a7d8b-b1c3-4f34-ca5b-67cd584ca390"
      },
      "execution_count": 96,
      "outputs": [
        {
          "output_type": "stream",
          "name": "stdout",
          "text": [
            "(60000, 784)\n"
          ]
        }
      ]
    },
    {
      "cell_type": "code",
      "source": [
        "# taking the 10th image and checking the 129 index ( both 10th image and 129th index is taken at random just for illustration)\n",
        "X_train[10][129]"
      ],
      "metadata": {
        "colab": {
          "base_uri": "https://localhost:8080/"
        },
        "id": "m9QCLjRdNLaW",
        "outputId": "6fc964ec-8c0c-4fe5-be55-f1cdd236a27a"
      },
      "execution_count": 97,
      "outputs": [
        {
          "output_type": "execute_result",
          "data": {
            "text/plain": [
              "6"
            ]
          },
          "metadata": {},
          "execution_count": 97
        }
      ]
    },
    {
      "cell_type": "code",
      "source": [
        "# standardising the values\n",
        "X_train = X_train.astype('float32')/255\n",
        "X_test = X_test.astype('float32')/255\n"
      ],
      "metadata": {
        "id": "IFgUvkCmOGK_"
      },
      "execution_count": 98,
      "outputs": []
    },
    {
      "cell_type": "code",
      "source": [
        "# rechecking if this standardisation has happened\n",
        "print(X_train[10][129])"
      ],
      "metadata": {
        "colab": {
          "base_uri": "https://localhost:8080/"
        },
        "id": "hHNCOFJdOOV5",
        "outputId": "ad057291-826a-4625-9a06-943e5b0885a8"
      },
      "execution_count": 100,
      "outputs": [
        {
          "output_type": "stream",
          "name": "stdout",
          "text": [
            "0.023529412\n"
          ]
        }
      ]
    },
    {
      "cell_type": "code",
      "source": [
        "#build Neural\n",
        "\n",
        "model = models.Sequential()\n",
        "model.add(Dense(512,activation = 'relu',input_shape = (NUM_ROWS*NUM_COLUMNS,)))\n",
        "model.add(Dense(10,activation = 'softmax'))\n"
      ],
      "metadata": {
        "id": "5EDj64tiO8Lk"
      },
      "execution_count": 101,
      "outputs": []
    },
    {
      "cell_type": "code",
      "source": [
        "# model evaluation\n",
        "\n",
        "model.compile(optimizer = 'sgd', loss = 'categorical_crossentropy',metrics = ['Accuracy'])"
      ],
      "metadata": {
        "id": "l8DiBOvYVOc5"
      },
      "execution_count": 102,
      "outputs": []
    },
    {
      "cell_type": "code",
      "source": [
        "# fitting the model\n",
        "\n",
        "model.fit(X_train,y_train,batch_size = BATCH_SIZE, epochs = EPOCH)"
      ],
      "metadata": {
        "colab": {
          "base_uri": "https://localhost:8080/"
        },
        "id": "NpNL1QNjVt02",
        "outputId": "d2c11ed0-e403-46d6-80a1-adf839bbb4a1"
      },
      "execution_count": 103,
      "outputs": [
        {
          "output_type": "stream",
          "name": "stdout",
          "text": [
            "Epoch 1/15\n",
            "469/469 [==============================] - 5s 10ms/step - loss: 1.0714 - Accuracy: 0.7674\n",
            "Epoch 2/15\n",
            "469/469 [==============================] - 5s 10ms/step - loss: 0.5121 - Accuracy: 0.8766\n",
            "Epoch 3/15\n",
            "469/469 [==============================] - 4s 9ms/step - loss: 0.4140 - Accuracy: 0.8924\n",
            "Epoch 4/15\n",
            "469/469 [==============================] - 4s 10ms/step - loss: 0.3692 - Accuracy: 0.9007\n",
            "Epoch 5/15\n",
            "469/469 [==============================] - 5s 10ms/step - loss: 0.3413 - Accuracy: 0.9068\n",
            "Epoch 6/15\n",
            "469/469 [==============================] - 4s 9ms/step - loss: 0.3214 - Accuracy: 0.9115\n",
            "Epoch 7/15\n",
            "469/469 [==============================] - 5s 10ms/step - loss: 0.3058 - Accuracy: 0.9152\n",
            "Epoch 8/15\n",
            "469/469 [==============================] - 5s 10ms/step - loss: 0.2930 - Accuracy: 0.9185\n",
            "Epoch 9/15\n",
            "469/469 [==============================] - 4s 9ms/step - loss: 0.2818 - Accuracy: 0.9220\n",
            "Epoch 10/15\n",
            "469/469 [==============================] - 5s 10ms/step - loss: 0.2724 - Accuracy: 0.9250\n",
            "Epoch 11/15\n",
            "469/469 [==============================] - 4s 9ms/step - loss: 0.2636 - Accuracy: 0.9272\n",
            "Epoch 12/15\n",
            "469/469 [==============================] - 4s 9ms/step - loss: 0.2557 - Accuracy: 0.9298\n",
            "Epoch 13/15\n",
            "469/469 [==============================] - 5s 11ms/step - loss: 0.2485 - Accuracy: 0.9313\n",
            "Epoch 14/15\n",
            "469/469 [==============================] - 4s 9ms/step - loss: 0.2417 - Accuracy: 0.9334\n",
            "Epoch 15/15\n",
            "469/469 [==============================] - 4s 9ms/step - loss: 0.2354 - Accuracy: 0.9349\n"
          ]
        },
        {
          "output_type": "execute_result",
          "data": {
            "text/plain": [
              "<keras.callbacks.History at 0x7fb6590076a0>"
            ]
          },
          "metadata": {},
          "execution_count": 103
        }
      ]
    },
    {
      "cell_type": "code",
      "source": [
        "model.summary()"
      ],
      "metadata": {
        "colab": {
          "base_uri": "https://localhost:8080/"
        },
        "id": "br_hwo85dUqy",
        "outputId": "d3152efa-68b0-48d8-b80f-24f234bfe072"
      },
      "execution_count": 104,
      "outputs": [
        {
          "output_type": "stream",
          "name": "stdout",
          "text": [
            "Model: \"sequential_8\"\n",
            "_________________________________________________________________\n",
            " Layer (type)                Output Shape              Param #   \n",
            "=================================================================\n",
            " dense_5 (Dense)             (None, 512)               401920    \n",
            "                                                                 \n",
            " dense_6 (Dense)             (None, 10)                5130      \n",
            "                                                                 \n",
            "=================================================================\n",
            "Total params: 407,050\n",
            "Trainable params: 407,050\n",
            "Non-trainable params: 0\n",
            "_________________________________________________________________\n"
          ]
        }
      ]
    }
  ]
}