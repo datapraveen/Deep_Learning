{
  "nbformat": 4,
  "nbformat_minor": 0,
  "metadata": {
    "colab": {
      "provenance": []
    },
    "kernelspec": {
      "name": "python3",
      "display_name": "Python 3"
    },
    "language_info": {
      "name": "python"
    }
  },
  "cells": [
    {
      "cell_type": "code",
      "execution_count": 82,
      "metadata": {
        "id": "ZkRGCmgNLatD"
      },
      "outputs": [],
      "source": [
        "#  importing the tensorflow and keras directories\n",
        "import tensorflow as tf\n",
        "from tensorflow import keras\n",
        "from tensorflow.keras import layers\n",
        "from tensorflow.keras.layers import Dense\n",
        "import pandas as pd\n",
        "import numpy as np\n",
        "\n",
        "from tensorflow.keras import models\n",
        "from tensorflow.keras.models import Sequential\n",
        "\n",
        "#  importing the utilities from keras\n",
        "from keras.utils import to_categorical\n",
        "from keras.utils.vis_utils import model_to_dot\n",
        "from keras.datasets import boston_housing"
      ]
    },
    {
      "cell_type": "code",
      "source": [
        "# splitting the boston dataset\n",
        "\n",
        "(x_train,y_train,) , (x_test,y_test) = boston_housing.load_data()\n"
      ],
      "metadata": {
        "id": "ZEsGXOhERCtJ"
      },
      "execution_count": 83,
      "outputs": []
    },
    {
      "cell_type": "code",
      "source": [
        "# Data Preprocessing\n",
        "\n",
        "# checking the shapes of training and test data\n",
        "\n",
        "print (x_train.shape)\n",
        "print (x_test.shape)\n",
        "print(y_train.shape)\n",
        "print(y_test.shape)\n"
      ],
      "metadata": {
        "colab": {
          "base_uri": "https://localhost:8080/"
        },
        "id": "RkQvW_K0W9EU",
        "outputId": "93c68044-3f90-485e-b5e6-09a534a8639a"
      },
      "execution_count": 84,
      "outputs": [
        {
          "output_type": "stream",
          "name": "stdout",
          "text": [
            "(404, 13)\n",
            "(102, 13)\n",
            "(404,)\n",
            "(102,)\n"
          ]
        }
      ]
    },
    {
      "cell_type": "markdown",
      "source": [
        "** from the above result we find that the dataset has 506 instances and 13 independent variables"
      ],
      "metadata": {
        "id": "1205NgyeXifA"
      }
    },
    {
      "cell_type": "code",
      "source": [
        "# defining parameters\n",
        "NUM_ROWS = 506          #  this we have seen earlier\n",
        "NUM_COLUMNS = 13       #  this we have seen earlier\n",
        "BATCH_SIZE = 200       # this is a hyperparameter; this is the number of instances that will be processed in one go\n",
        "EPOCH = 20             # the number of times the operations happen "
      ],
      "metadata": {
        "id": "fcIpHbZieu7f"
      },
      "execution_count": 85,
      "outputs": []
    },
    {
      "cell_type": "code",
      "source": [
        "# normalising the training data\n",
        "\n",
        "x_train = tf.keras.layers.UnitNormalization()(x_train)\n",
        "x_test = tf.keras.layers.UnitNormalization()(x_test)"
      ],
      "metadata": {
        "id": "FO4dO-2RfGEG"
      },
      "execution_count": 86,
      "outputs": []
    },
    {
      "cell_type": "code",
      "source": [
        "# rechecking if this standardisation has happened\n",
        "print(x_train[10])"
      ],
      "metadata": {
        "colab": {
          "base_uri": "https://localhost:8080/"
        },
        "id": "2_U667kBMTc0",
        "outputId": "5da8c7b1-8f96-4c1b-93d9-5d96941aceb2"
      },
      "execution_count": 87,
      "outputs": [
        {
          "output_type": "stream",
          "name": "stdout",
          "text": [
            "tf.Tensor(\n",
            "[0.01242039 0.         0.02342809 0.         0.000897   0.00828914\n",
            " 0.12943694 0.00212147 0.03106487 0.86205006 0.02614626 0.4868253\n",
            " 0.02628864], shape=(13,), dtype=float32)\n"
          ]
        }
      ]
    },
    {
      "cell_type": "code",
      "source": [
        "#build Neural with 2 hidden layers\n",
        "\n",
        "model = models.Sequential()\n",
        "model.add(Dense(512,activation = 'relu'))\n",
        "model.add(Dense(512,activation = 'relu'))\n",
        "model.add(Dense(1,activation = 'relu'))"
      ],
      "metadata": {
        "id": "-J2Vkm5pNzvS"
      },
      "execution_count": 88,
      "outputs": []
    },
    {
      "cell_type": "code",
      "source": [
        "# model evaluation\n",
        "\n",
        "tf.keras.losses.MeanSquaredError(reduction=\"auto\", name=\"mean_squared_error\")"
      ],
      "metadata": {
        "colab": {
          "base_uri": "https://localhost:8080/"
        },
        "id": "-pq7OnyOStco",
        "outputId": "27847184-0029-4b08-e902-b1041b962557"
      },
      "execution_count": 89,
      "outputs": [
        {
          "output_type": "execute_result",
          "data": {
            "text/plain": [
              "<keras.losses.MeanSquaredError at 0x7f5265b483d0>"
            ]
          },
          "metadata": {},
          "execution_count": 89
        }
      ]
    },
    {
      "cell_type": "code",
      "source": [
        "# model evaluation\n",
        "\n",
        "model.compile( optimizer='sgd',loss='mse', metrics=[tf.keras.metrics.MeanSquaredError()])"
      ],
      "metadata": {
        "id": "3kCMywJsaVSw"
      },
      "execution_count": 90,
      "outputs": []
    },
    {
      "cell_type": "code",
      "source": [
        "# fitting the model\n",
        "\n",
        "history = model.fit(x_train,y_train,batch_size = BATCH_SIZE, epochs = EPOCH)"
      ],
      "metadata": {
        "colab": {
          "base_uri": "https://localhost:8080/"
        },
        "id": "ANLw2mzkbCou",
        "outputId": "1510fda2-52e4-48d7-a00f-93190f3e1865"
      },
      "execution_count": 106,
      "outputs": [
        {
          "output_type": "stream",
          "name": "stdout",
          "text": [
            "Epoch 1/20\n",
            "3/3 [==============================] - 0s 15ms/step - loss: 65.7259 - mean_squared_error: 65.7259\n",
            "Epoch 2/20\n",
            "3/3 [==============================] - 0s 16ms/step - loss: 75.5377 - mean_squared_error: 75.5377\n",
            "Epoch 3/20\n",
            "3/3 [==============================] - 0s 26ms/step - loss: 200.8193 - mean_squared_error: 200.8193\n",
            "Epoch 4/20\n",
            "3/3 [==============================] - 0s 14ms/step - loss: 78.6170 - mean_squared_error: 78.6170\n",
            "Epoch 5/20\n",
            "3/3 [==============================] - 0s 15ms/step - loss: 72.8535 - mean_squared_error: 72.8535\n",
            "Epoch 6/20\n",
            "3/3 [==============================] - 0s 19ms/step - loss: 77.6761 - mean_squared_error: 77.6761\n",
            "Epoch 7/20\n",
            "3/3 [==============================] - 0s 18ms/step - loss: 68.4019 - mean_squared_error: 68.4019\n",
            "Epoch 8/20\n",
            "3/3 [==============================] - 0s 17ms/step - loss: 72.5849 - mean_squared_error: 72.5849\n",
            "Epoch 9/20\n",
            "3/3 [==============================] - 0s 19ms/step - loss: 88.1310 - mean_squared_error: 88.1310\n",
            "Epoch 10/20\n",
            "3/3 [==============================] - 0s 11ms/step - loss: 72.8105 - mean_squared_error: 72.8105\n",
            "Epoch 11/20\n",
            "3/3 [==============================] - 0s 11ms/step - loss: 105.7033 - mean_squared_error: 105.7033\n",
            "Epoch 12/20\n",
            "3/3 [==============================] - 0s 10ms/step - loss: 89.4120 - mean_squared_error: 89.4120\n",
            "Epoch 13/20\n",
            "3/3 [==============================] - 0s 13ms/step - loss: 76.7913 - mean_squared_error: 76.7913\n",
            "Epoch 14/20\n",
            "3/3 [==============================] - 0s 11ms/step - loss: 89.0570 - mean_squared_error: 89.0570\n",
            "Epoch 15/20\n",
            "3/3 [==============================] - 0s 12ms/step - loss: 83.1699 - mean_squared_error: 83.1699\n",
            "Epoch 16/20\n",
            "3/3 [==============================] - 0s 11ms/step - loss: 80.6565 - mean_squared_error: 80.6565\n",
            "Epoch 17/20\n",
            "3/3 [==============================] - 0s 10ms/step - loss: 129.9332 - mean_squared_error: 129.9332\n",
            "Epoch 18/20\n",
            "3/3 [==============================] - 0s 11ms/step - loss: 76.7065 - mean_squared_error: 76.7065\n",
            "Epoch 19/20\n",
            "3/3 [==============================] - 0s 17ms/step - loss: 85.3536 - mean_squared_error: 85.3536\n",
            "Epoch 20/20\n",
            "3/3 [==============================] - 0s 12ms/step - loss: 69.1245 - mean_squared_error: 69.1245\n"
          ]
        }
      ]
    },
    {
      "cell_type": "code",
      "source": [
        "model.summary()"
      ],
      "metadata": {
        "colab": {
          "base_uri": "https://localhost:8080/"
        },
        "id": "X2wBr_9ad-sX",
        "outputId": "0fa8709b-a676-407c-9d01-e4a9e38c9e3f"
      },
      "execution_count": 107,
      "outputs": [
        {
          "output_type": "stream",
          "name": "stdout",
          "text": [
            "Model: \"sequential_7\"\n",
            "_________________________________________________________________\n",
            " Layer (type)                Output Shape              Param #   \n",
            "=================================================================\n",
            " dense_22 (Dense)            (None, 512)               7168      \n",
            "                                                                 \n",
            " dense_23 (Dense)            (None, 512)               262656    \n",
            "                                                                 \n",
            " dense_24 (Dense)            (None, 1)                 513       \n",
            "                                                                 \n",
            "=================================================================\n",
            "Total params: 270,337\n",
            "Trainable params: 270,337\n",
            "Non-trainable params: 0\n",
            "_________________________________________________________________\n"
          ]
        }
      ]
    },
    {
      "cell_type": "code",
      "source": [
        "import matplotlib.pyplot as plt\n",
        "plt.plot(history.history['loss'])\n",
        "plt.plot([EPOCH])\n",
        "plt.ylabel('loss')\n",
        "plt.xlabel('EPOCH')\n",
        "plt.legend(['train','test'],loc = 'upper left')\n",
        "plt.show()\n"
      ],
      "metadata": {
        "colab": {
          "base_uri": "https://localhost:8080/",
          "height": 279
        },
        "id": "e_HiwWJ-hygv",
        "outputId": "0c7f68fc-a196-43f9-affa-262e4ae6fbf7"
      },
      "execution_count": 108,
      "outputs": [
        {
          "output_type": "display_data",
          "data": {
            "text/plain": [
              "<Figure size 432x288 with 1 Axes>"
            ],
            "image/png": "[encoded data removed]"
          },
          "metadata": {
            "needs_background": "light"
          }
        }
      ]
    }
  ]
}